{
 "cells": [
  {
   "cell_type": "code",
   "execution_count": null,
   "id": "d14062b4",
   "metadata": {
    "slideshow": {
     "slide_type": "skip"
    }
   },
   "outputs": [],
   "source": [
    "# Setup.\n",
    "import otter\n",
    "grader = otter.Notebook()\n",
    "\n",
    "import pandas as pd\n",
    "df = pd.DataFrame().assign(x=[1, 2, 3], y=['A', 'A', 'B'])\n",
    "\n",
    "x = 6"
   ]
  },
  {
   "cell_type": "markdown",
   "id": "49731f56",
   "metadata": {
    "slideshow": {
     "slide_type": "slide"
    }
   },
   "source": [
    "<img src=\"images/logo.png\" width=200>\n",
    "\n",
    "_**JupyterCon 2023 • May 12th, 2023**_\n",
    "## Otter-Grader: A Lightweight Solution for Creating and Grading Jupyter Notebook Assignments\n",
    "\n",
    "<br>\n",
    "\n",
    "**Suraj Rampure, UC San Diego, rampure@ucsd.edu**\n",
    "\n",
    "**Christopher Pyles, UC Berkeley and Google, cpyles@berkeley.edu**\n",
    "\n",
    "<br>\n",
    "\n",
    "<center><h3>Follow along at <a href=\"https://tinyurl.com/otter-paris\">tinyurl.com/otter-paris</a>!</h3></center>"
   ]
  },
  {
   "cell_type": "markdown",
   "id": "bc69088c",
   "metadata": {
    "slideshow": {
     "slide_type": "slide"
    }
   },
   "source": [
    "#### Suraj Rampure\n",
    "\n",
    "TODO"
   ]
  },
  {
   "cell_type": "markdown",
   "id": "f808e440",
   "metadata": {
    "slideshow": {
     "slide_type": "-"
    }
   },
   "source": [
    "#### Christopher Pyles\n",
    "\n",
    "TODO"
   ]
  },
  {
   "cell_type": "markdown",
   "id": "531e6ad7",
   "metadata": {
    "slideshow": {
     "slide_type": "slide"
    }
   },
   "source": [
    "### Autograding"
   ]
  },
  {
   "cell_type": "markdown",
   "id": "9eef3300",
   "metadata": {
    "slideshow": {
     "slide_type": "fragment"
    }
   },
   "source": [
    "**What is it?** An automatic method of grading students' code which doesn't require manual reading."
   ]
  },
  {
   "cell_type": "markdown",
   "id": "37a2ceae",
   "metadata": {
    "slideshow": {
     "slide_type": "fragment"
    }
   },
   "source": [
    "**How does it work?** An autograder re-executes a student's solution code and runs provided tests on the resulting environment."
   ]
  },
  {
   "cell_type": "markdown",
   "id": "ab356852",
   "metadata": {
    "slideshow": {
     "slide_type": "fragment"
    }
   },
   "source": [
    "**Why?** Scale."
   ]
  },
  {
   "cell_type": "markdown",
   "id": "f3667bdc",
   "metadata": {
    "slideshow": {
     "slide_type": "slide"
    }
   },
   "source": [
    "### What is Otter-Grader?"
   ]
  },
  {
   "cell_type": "markdown",
   "id": "c91155fa",
   "metadata": {
    "slideshow": {
     "slide_type": "fragment"
    }
   },
   "source": [
    "Otter-Grader is a **light-weight**, **modular**, **open-source** autograder designed to grade programming assignments for classes at **any scale**."
   ]
  },
  {
   "cell_type": "markdown",
   "id": "ef70b0d4",
   "metadata": {
    "slideshow": {
     "slide_type": "fragment"
    }
   },
   "source": [
    "- Works with both Python and R."
   ]
  },
  {
   "cell_type": "markdown",
   "id": "2ff13852",
   "metadata": {
    "slideshow": {
     "slide_type": "fragment"
    }
   },
   "source": [
    "- Designed for Jupyter Notebooks but compatible with other formats."
   ]
  },
  {
   "cell_type": "markdown",
   "id": "39f2af9a",
   "metadata": {
    "slideshow": {
     "slide_type": "fragment"
    }
   },
   "source": [
    "- Includes tooling for assignment development and distribution."
   ]
  },
  {
   "cell_type": "markdown",
   "id": "5d9f845a",
   "metadata": {
    "slideshow": {
     "slide_type": "fragment"
    }
   },
   "source": [
    "- Supports local execution or third-party services like Gradescope."
   ]
  },
  {
   "cell_type": "markdown",
   "id": "157ea25c",
   "metadata": {
    "slideshow": {
     "slide_type": "fragment"
    }
   },
   "source": [
    "- **Core abstraction: You provide the compute, Otter does the rest!**"
   ]
  },
  {
   "cell_type": "markdown",
   "id": "7b84f9d4",
   "metadata": {
    "slideshow": {
     "slide_type": "slide"
    }
   },
   "source": [
    "### Setup\n",
    "\n",
    "To create or work on assignments, all one needs to do is install Otter [via `pip`](https://pypi.org/project/otter-grader/):\n",
    "\n",
    "<br>\n",
    "\n",
    "```\n",
    "pip install otter-grader\n",
    "```"
   ]
  },
  {
   "cell_type": "markdown",
   "id": "1c509ae6",
   "metadata": {
    "slideshow": {
     "slide_type": "slide"
    }
   },
   "source": [
    "### Agenda"
   ]
  },
  {
   "cell_type": "markdown",
   "id": "32f06277",
   "metadata": {
    "slideshow": {
     "slide_type": "fragment"
    }
   },
   "source": [
    "1. Demonstration of the assignment authoring, release, and collection process."
   ]
  },
  {
   "cell_type": "markdown",
   "id": "807a0357",
   "metadata": {
    "slideshow": {
     "slide_type": "fragment"
    }
   },
   "source": [
    "2. Discussion of various use-cases and extensions."
   ]
  },
  {
   "cell_type": "markdown",
   "id": "e7c442aa",
   "metadata": {
    "slideshow": {
     "slide_type": "fragment"
    }
   },
   "source": [
    "3. Shortcomings and future plans."
   ]
  },
  {
   "cell_type": "markdown",
   "id": "e6c5a666",
   "metadata": {
    "slideshow": {
     "slide_type": "slide"
    }
   },
   "source": [
    "## Demo"
   ]
  },
  {
   "cell_type": "markdown",
   "id": "9156754a",
   "metadata": {
    "slideshow": {
     "slide_type": "slide"
    }
   },
   "source": [
    "### Generating student-facing notebooks\n",
    "\n",
    "Otter works best in assignments where students are provided exposition and **skeleton code** and need to fill in the blanks themselves.\n",
    "\n",
    "For instance:\n",
    "\n",
    "---"
   ]
  },
  {
   "cell_type": "markdown",
   "id": "ac62a36f",
   "metadata": {
    "slideshow": {
     "slide_type": "fragment"
    }
   },
   "source": [
    "Below, complete the implementation of the function `a_cubed_plus_b_squared`, which takes in two numbers `a` and `b` and returns the cube of `a` added to the square of `b`."
   ]
  },
  {
   "cell_type": "code",
   "execution_count": null,
   "id": "c41da06f",
   "metadata": {},
   "outputs": [],
   "source": [
    "def a_cubed_plus_b_squared(a, b):\n",
    "    a_cubed = ...\n",
    "    b_squared = ...\n",
    "    return a_cubed + b_squared"
   ]
  },
  {
   "cell_type": "markdown",
   "id": "8cda27c2",
   "metadata": {
    "slideshow": {
     "slide_type": "fragment"
    }
   },
   "source": [
    "---\n",
    "\n",
    "When students run the following cell, their implementation will be tested on a series of **public test cases**, which typically check whether their answer is of the right data type or in the right range."
   ]
  },
  {
   "cell_type": "code",
   "execution_count": null,
   "id": "41e6c1c2",
   "metadata": {},
   "outputs": [],
   "source": [
    "grader.check(\"q1_3\")"
   ]
  },
  {
   "cell_type": "markdown",
   "id": "63a5a097",
   "metadata": {
    "slideshow": {
     "slide_type": "slide"
    }
   },
   "source": [
    "### Source notebooks\n",
    "\n",
    "The corresponding instructor-facing source code may look like this:\n",
    "\n",
    "---"
   ]
  },
  {
   "cell_type": "markdown",
   "id": "8f32de84",
   "metadata": {
    "slideshow": {
     "slide_type": "fragment"
    }
   },
   "source": [
    "Below, complete the implementation of the function `a_cubed_plus_b_squared`, which takes in two numbers `a` and `b` and returns the cube of `a` added to the square of `b`.\n",
    "\n",
    "```\n",
    "BEGIN QUESTION\n",
    "name: q1_3\n",
    "```"
   ]
  },
  {
   "cell_type": "code",
   "execution_count": null,
   "id": "55bd16b6",
   "metadata": {},
   "outputs": [],
   "source": [
    "def a_cubed_plus_b_squared(a, b):\n",
    "    a_cubed = a ** 3 # SOLUTION\n",
    "    b_squared = b ** 2 # SOLUTION\n",
    "    return a_cubed + b_squared"
   ]
  },
  {
   "cell_type": "code",
   "execution_count": null,
   "id": "e3678afd",
   "metadata": {},
   "outputs": [],
   "source": [
    "## TEST ##\n",
    "callable(a_cubed_plus_b_squared)"
   ]
  },
  {
   "cell_type": "code",
   "execution_count": null,
   "id": "50cea10a",
   "metadata": {},
   "outputs": [],
   "source": [
    "## TEST ##\n",
    "a_cubed_plus_b_squared(5, 2) == 129"
   ]
  },
  {
   "cell_type": "code",
   "execution_count": null,
   "id": "338c2e60",
   "metadata": {},
   "outputs": [],
   "source": [
    "## HIDDEN TEST ##\n",
    "a_cubed_plus_b_squared(-2, -4) == 8"
   ]
  },
  {
   "cell_type": "markdown",
   "id": "a07243aa",
   "metadata": {
    "slideshow": {
     "slide_type": "fragment"
    }
   },
   "source": [
    "Note that while working on an assignment, students are not told whether their work passes **hidden tests**, which typically check for correctness more thoroughly than public tests."
   ]
  },
  {
   "cell_type": "markdown",
   "id": "b6d0bd92",
   "metadata": {
    "slideshow": {
     "slide_type": "slide"
    }
   },
   "source": [
    "### One workflow"
   ]
  },
  {
   "cell_type": "markdown",
   "id": "e1aad660",
   "metadata": {
    "slideshow": {
     "slide_type": "fragment"
    }
   },
   "source": [
    "1. Instructors create a source notebook."
   ]
  },
  {
   "cell_type": "markdown",
   "id": "e52d108a",
   "metadata": {
    "slideshow": {
     "slide_type": "fragment"
    }
   },
   "source": [
    "2. Instructors run `otter assign` to generate artifacts (a student-facing notebook and an autograder zip file)."
   ]
  },
  {
   "cell_type": "markdown",
   "id": "74e0f643",
   "metadata": {
    "slideshow": {
     "slide_type": "fragment"
    }
   },
   "source": [
    "3. Instructors distribute student-facing notebooks to students."
   ]
  },
  {
   "cell_type": "markdown",
   "id": "6a8d4cf4",
   "metadata": {
    "slideshow": {
     "slide_type": "fragment"
    }
   },
   "source": [
    "4. Instructors upload the autograder zip file to the course grading platform."
   ]
  },
  {
   "cell_type": "markdown",
   "id": "153cddba",
   "metadata": {
    "slideshow": {
     "slide_type": "fragment"
    }
   },
   "source": [
    "5. Students submit their completed notebooks to the course grading platform and see their grades instantly."
   ]
  },
  {
   "cell_type": "markdown",
   "id": "bf72bd4a",
   "metadata": {
    "slideshow": {
     "slide_type": "slide"
    }
   },
   "source": [
    "### Step 1: Creating source notebooks"
   ]
  },
  {
   "cell_type": "markdown",
   "id": "69925233",
   "metadata": {
    "slideshow": {
     "slide_type": "fragment"
    }
   },
   "source": [
    "Source notebooks consist of:"
   ]
  },
  {
   "cell_type": "markdown",
   "id": "2b7c8fe3",
   "metadata": {
    "slideshow": {
     "slide_type": "fragment"
    }
   },
   "source": [
    "- Skeleton code with solutions, as shown previously."
   ]
  },
  {
   "cell_type": "markdown",
   "id": "fbe93cba",
   "metadata": {
    "slideshow": {
     "slide_type": "fragment"
    }
   },
   "source": [
    "- Test cases, both public and hidden."
   ]
  },
  {
   "cell_type": "markdown",
   "id": "58e468a5",
   "metadata": {
    "slideshow": {
     "slide_type": "fragment"
    }
   },
   "source": [
    "- Question-level metadata (e.g. number of points, whether the question should be set aside for human grading)."
   ]
  },
  {
   "cell_type": "markdown",
   "id": "60891b10",
   "metadata": {
    "slideshow": {
     "slide_type": "fragment"
    }
   },
   "source": [
    "- Assignment-level metadata (e.g. files to include, environment requirements)."
   ]
  },
  {
   "cell_type": "markdown",
   "id": "70abab1f",
   "metadata": {
    "slideshow": {
     "slide_type": "fragment"
    }
   },
   "source": [
    "<br>\n",
    "\n",
    "<center>(see demo)</center>"
   ]
  },
  {
   "cell_type": "markdown",
   "id": "227c6859",
   "metadata": {
    "slideshow": {
     "slide_type": "slide"
    }
   },
   "source": [
    "### Step 2: Running `otter assign` to generate artifacts"
   ]
  },
  {
   "cell_type": "markdown",
   "id": "49a22a11",
   "metadata": {
    "slideshow": {
     "slide_type": "fragment"
    }
   },
   "source": [
    "Suppose `proj.ipynb` is a source notebook. After the source notebook is complete, an instructor might run:\n",
    "\n",
    "<br>\n",
    "\n",
    "```\n",
    "otter assign src/proj03.ipynb build/\n",
    "```"
   ]
  },
  {
   "cell_type": "markdown",
   "id": "4c3d0f07",
   "metadata": {
    "slideshow": {
     "slide_type": "fragment"
    }
   },
   "source": [
    "Then, in `build/`, they'd find:"
   ]
  },
  {
   "cell_type": "markdown",
   "id": "6e8bd268",
   "metadata": {
    "slideshow": {
     "slide_type": "fragment"
    }
   },
   "source": [
    "- An `autograder/` directory, which contains an `autograder.zip` file."
   ]
  },
  {
   "cell_type": "markdown",
   "id": "1daabd06",
   "metadata": {
    "slideshow": {
     "slide_type": "fragment"
    }
   },
   "source": [
    "- A `student/` directory, which contains the student-facing notebook, along with any specified files and images."
   ]
  },
  {
   "cell_type": "markdown",
   "id": "4b3ebeb3",
   "metadata": {
    "slideshow": {
     "slide_type": "fragment"
    }
   },
   "source": [
    "<br>\n",
    "\n",
    "<center>(see demo)</center>"
   ]
  },
  {
   "cell_type": "markdown",
   "id": "ef39c70f",
   "metadata": {
    "slideshow": {
     "slide_type": "slide"
    }
   },
   "source": [
    "### Step 3: Distributing student-facing notebooks"
   ]
  },
  {
   "cell_type": "markdown",
   "id": "35e5188d",
   "metadata": {
    "slideshow": {
     "slide_type": "fragment"
    }
   },
   "source": [
    "Students need to have access to the `student/` folder produced by `otter assign`. Instructors can provide them this directory by:"
   ]
  },
  {
   "cell_type": "markdown",
   "id": "19e76fff",
   "metadata": {
    "slideshow": {
     "slide_type": "fragment"
    }
   },
   "source": [
    "- Uploading a zip of the directory to a course learning management system (LMS)."
   ]
  },
  {
   "cell_type": "markdown",
   "id": "2f6b36cc",
   "metadata": {
    "slideshow": {
     "slide_type": "fragment"
    }
   },
   "source": [
    "- Pushing the directory to a public course GitHub repository and asking students to pull it."
   ]
  },
  {
   "cell_type": "markdown",
   "id": "5cf9b646",
   "metadata": {
    "slideshow": {
     "slide_type": "fragment"
    }
   },
   "source": [
    "- Pushing the directory to a public course GitHub repository and using `nbgitpuller` to automatically pull the repo and open the relevant assignment on a JupyterHub."
   ]
  },
  {
   "cell_type": "markdown",
   "id": "a0f9cb2f",
   "metadata": {
    "slideshow": {
     "slide_type": "slide"
    }
   },
   "source": [
    "#### Example: `nbgitpuller`\n",
    "\n",
    "<center><img src=\"images/nbgitpuller-screenshot.png\" width=80%><br>Screenshot taken from <a href=\"https://dsc10.com\">dsc10.com</a>.</center>"
   ]
  },
  {
   "cell_type": "markdown",
   "id": "76c7cf80",
   "metadata": {
    "slideshow": {
     "slide_type": "fragment"
    }
   },
   "source": [
    "The bolded hyperlink points to:\n",
    "\n",
    "http://datahub.ucsd.edu/user-redirect/git-sync?repo=https://github.com/dsc-courses/dsc10-2023-sp&subPath=homeworks/hw02/hw02.ipynb"
   ]
  },
  {
   "cell_type": "markdown",
   "id": "31127b60",
   "metadata": {
    "slideshow": {
     "slide_type": "slide"
    }
   },
   "source": [
    "### Step 4: Configuring the autograder"
   ]
  },
  {
   "cell_type": "markdown",
   "id": "8488b231",
   "metadata": {
    "slideshow": {
     "slide_type": "fragment"
    }
   },
   "source": [
    "The `autograder.zip` file that is generated contains a `requirements.txt` file and all of the test cases that need to be run on students' work."
   ]
  },
  {
   "cell_type": "markdown",
   "id": "0aadb627",
   "metadata": {
    "slideshow": {
     "slide_type": "fragment"
    }
   },
   "source": [
    "Often, instructors upload the generated `autograder.zip` file to an autograding platform, such as Gradescope.\n",
    "\n",
    "<center><img src=\"images/config-autograder.png\" width=50%></center>"
   ]
  },
  {
   "cell_type": "markdown",
   "id": "5ac762c2",
   "metadata": {
    "slideshow": {
     "slide_type": "slide"
    }
   },
   "source": [
    "### Step 5: Collecting student work"
   ]
  },
  {
   "cell_type": "markdown",
   "id": "ed596f00",
   "metadata": {
    "slideshow": {
     "slide_type": "fragment"
    }
   },
   "source": [
    "- If using Gradescope, students can upload their finished `.ipynb` files directly."
   ]
  },
  {
   "cell_type": "markdown",
   "id": "f977b7b6",
   "metadata": {
    "slideshow": {
     "slide_type": "fragment"
    }
   },
   "source": [
    "- Upon submission, they will only see the results of their code on the public tests, which they already had access to in their notebook."
   ]
  },
  {
   "cell_type": "markdown",
   "id": "4394fcc4",
   "metadata": {
    "slideshow": {
     "slide_type": "fragment"
    }
   },
   "source": [
    "- However, the hidden tests are also run on their code, but their hidden test scores aren't shown until instructors release grades."
   ]
  },
  {
   "cell_type": "markdown",
   "id": "6d15be9e",
   "metadata": {
    "slideshow": {
     "slide_type": "fragment"
    }
   },
   "source": [
    "- Questions can be manually-graded if desired (e.g. questions in which students must create a plot or interpret results)."
   ]
  },
  {
   "cell_type": "markdown",
   "id": "c3d44833",
   "metadata": {
    "slideshow": {
     "slide_type": "slide"
    }
   },
   "source": [
    "<center><img src=\"images/student-view.png\" width=75%>What students see when they submit.<br>Note that they're only shown their results on the public tests, <b>not</b> the hidden tests.</center>"
   ]
  },
  {
   "cell_type": "markdown",
   "id": "5ff9017e",
   "metadata": {
    "slideshow": {
     "slide_type": "slide"
    }
   },
   "source": [
    "<center><img src=\"images/instructor-view.png\" width=80%>What instructors see when students submit, and what students will see once grades are released.</center>"
   ]
  },
  {
   "cell_type": "markdown",
   "id": "a6c36869",
   "metadata": {
    "slideshow": {
     "slide_type": "slide"
    }
   },
   "source": [
    "<center><img src=\"images/manual-grading.png\" width=80%>The grading view that instructors see when grading students' notebooks manually.</center>"
   ]
  },
  {
   "cell_type": "markdown",
   "id": "41eb1c5c",
   "metadata": {
    "slideshow": {
     "slide_type": "slide"
    }
   },
   "source": [
    "### Alternatives to steps 4 and 5"
   ]
  },
  {
   "cell_type": "markdown",
   "id": "6049f1e4",
   "metadata": {
    "slideshow": {
     "slide_type": "fragment"
    }
   },
   "source": [
    "- Instead of uploading `autograder.zip` to an autograding platform, instructors can instead ask students to submit their completed notebooks to any file upload service (any LMS, Google Drive, etc.)."
   ]
  },
  {
   "cell_type": "markdown",
   "id": "5dbfa6c0",
   "metadata": {
    "slideshow": {
     "slide_type": "fragment"
    }
   },
   "source": [
    "- Then, instructors can download all submissions at once and run the autograder locally, using `otter grade` command and the Otter Docker image."
   ]
  },
  {
   "cell_type": "markdown",
   "id": "b649ecd7",
   "metadata": {
    "slideshow": {
     "slide_type": "fragment"
    }
   },
   "source": [
    "- The result is a CSV of assignment scores for each student, which can then be imported into any LMS."
   ]
  },
  {
   "cell_type": "markdown",
   "id": "a2552ddb",
   "metadata": {
    "slideshow": {
     "slide_type": "fragment"
    }
   },
   "source": [
    "- This doesn't require having access to proprietary systems, such as Gradescope."
   ]
  },
  {
   "cell_type": "markdown",
   "id": "effd4115",
   "metadata": {
    "slideshow": {
     "slide_type": "slide"
    }
   },
   "source": [
    "## Use-cases and extensions"
   ]
  },
  {
   "cell_type": "markdown",
   "id": "db2e8fcb",
   "metadata": {
    "slideshow": {
     "slide_type": "slide"
    }
   },
   "source": [
    "### Adopters"
   ]
  },
  {
   "cell_type": "markdown",
   "id": "79cca39a",
   "metadata": {
    "slideshow": {
     "slide_type": "fragment"
    }
   },
   "source": [
    "- UC Berkeley.\n",
    "    - Used in **very** large classes. Examples:\n",
    "        - Data 8: 1500 students/semester.\n",
    "        - Data 100: 1000 students/semester.\n",
    "    - Most classes use a campus-hosted JupyterHub server.\n",
    "    - Mostly Python, but some R.\n",
    "        - [TODO: Example R notebook](TODO)."
   ]
  },
  {
   "cell_type": "markdown",
   "id": "9799ba02",
   "metadata": {
    "slideshow": {
     "slide_type": "fragment"
    }
   },
   "source": [
    "- UC San Diego.\n",
    "    - DSC 10: Works similarly to Berkeley's Data 8 (uses campus-hosted JupyterHub server).\n",
    "    - DSC 80: Uses an **Otter extension where separate .py and .ipynb files are created**."
   ]
  },
  {
   "cell_type": "markdown",
   "id": "0e88aa08",
   "metadata": {
    "slideshow": {
     "slide_type": "fragment"
    }
   },
   "source": [
    "- Various other universities, community colleges, and even high schools."
   ]
  },
  {
   "cell_type": "markdown",
   "id": "2b71bb04",
   "metadata": {
    "slideshow": {
     "slide_type": "slide"
    }
   },
   "source": [
    "### An extension to Otter"
   ]
  },
  {
   "cell_type": "markdown",
   "id": "6b8d88b7",
   "metadata": {
    "slideshow": {
     "slide_type": "fragment"
    }
   },
   "source": [
    "- In one of our courses – DSC 80 at UC San Diego – the philosophy taught is that:\n",
    "    - Notebooks are for experimentation.\n",
    "    - Library code should exist in `.py` files."
   ]
  },
  {
   "cell_type": "markdown",
   "id": "0514ef3c",
   "metadata": {
    "slideshow": {
     "slide_type": "fragment"
    }
   },
   "source": [
    "- In this course, each assignment consists of:\n",
    "    - A notebook, which contains question prompts and data imports.\n",
    "    - A `.py` file, which contains function stubs.\n",
    "    - **Students only submit the `.py` file!**"
   ]
  },
  {
   "cell_type": "markdown",
   "id": "8819eb4d",
   "metadata": {
    "slideshow": {
     "slide_type": "fragment"
    }
   },
   "source": [
    "- By default, Otter takes in a source notebook and generates a student-facing notebook. We built an extension that takes in a source notebook and generates separate student-facing notebooks and `.py` files.\n",
    "    - Not currently public or officially part of Otter, but ask Suraj."
   ]
  },
  {
   "cell_type": "markdown",
   "id": "1053de0f",
   "metadata": {
    "slideshow": {
     "slide_type": "slide"
    }
   },
   "source": [
    "<center><img src=\"images/dsc80-notebook.png\" width=75%>A student-facing notebook in DSC 80, generated by our Otter extension.</center>"
   ]
  },
  {
   "cell_type": "markdown",
   "id": "3c6668c2",
   "metadata": {
    "slideshow": {
     "slide_type": "slide"
    }
   },
   "source": [
    "<center><img src=\"images/dsc80-py.png\" width=75%>A student-facing <code>.py</code> file in DSC 80, generated by our Otter extension.</center>"
   ]
  },
  {
   "cell_type": "markdown",
   "id": "3392dedb",
   "metadata": {
    "slideshow": {
     "slide_type": "slide"
    }
   },
   "source": [
    "### Pre-Otter assignment authoring in DSC 80"
   ]
  },
  {
   "cell_type": "markdown",
   "id": "49104404",
   "metadata": {
    "slideshow": {
     "slide_type": "fragment"
    }
   },
   "source": [
    "- This course existed well before otter."
   ]
  },
  {
   "cell_type": "markdown",
   "id": "4a597723",
   "metadata": {
    "slideshow": {
     "slide_type": "fragment"
    }
   },
   "source": [
    "- Previously, instructors would have to separately update a student-facing notebook, a student-facing `.py` file, **and** separate test case `.py` files for each question. This made it difficult to change anything about the assignments."
   ]
  },
  {
   "cell_type": "markdown",
   "id": "8c22005d",
   "metadata": {
    "slideshow": {
     "slide_type": "fragment"
    }
   },
   "source": [
    "- **With Otter and this extension, the assignment revision process has become significantly more convenient.**"
   ]
  },
  {
   "cell_type": "markdown",
   "id": "91bec19f",
   "metadata": {
    "slideshow": {
     "slide_type": "slide"
    }
   },
   "source": [
    "## Shortcomings and future plans"
   ]
  },
  {
   "cell_type": "markdown",
   "id": "9b8dabe1",
   "metadata": {
    "slideshow": {
     "slide_type": "slide"
    }
   },
   "source": [
    "### Writing test cases is an art and a science"
   ]
  },
  {
   "cell_type": "markdown",
   "id": "759d0681",
   "metadata": {
    "slideshow": {
     "slide_type": "fragment"
    }
   },
   "source": [
    "**Your evaluation is only as good as your tests!** Issues:"
   ]
  },
  {
   "cell_type": "markdown",
   "id": "b2a8b8f1",
   "metadata": {
    "slideshow": {
     "slide_type": "fragment"
    }
   },
   "source": [
    "- Randomness.\n",
    "    - When students' code involves randomness, how do we write test cases that capture the variance in their possible responses?"
   ]
  },
  {
   "cell_type": "markdown",
   "id": "27d18ec4",
   "metadata": {
    "slideshow": {
     "slide_type": "fragment"
    }
   },
   "source": [
    "- Visibility of public tests.\n",
    "    - What if you'd like to give students public test cases that they can't look at (and overfit to)?\n",
    "    - One solution: hashing.\n",
    "    - Related feature: failure messages."
   ]
  },
  {
   "cell_type": "markdown",
   "id": "627434a3",
   "metadata": {
    "slideshow": {
     "slide_type": "fragment"
    }
   },
   "source": [
    "- Non-deterministic forms.\n",
    "    - What if we want to check whether a student created a `DataFrameGroupBy` object?"
   ]
  },
  {
   "cell_type": "code",
   "execution_count": null,
   "id": "38ce9b6a",
   "metadata": {},
   "outputs": [],
   "source": [
    "df"
   ]
  },
  {
   "cell_type": "code",
   "execution_count": null,
   "id": "06ed0903",
   "metadata": {},
   "outputs": [],
   "source": [
    "df.groupby('y')"
   ]
  },
  {
   "cell_type": "markdown",
   "id": "9e97dba3",
   "metadata": {
    "slideshow": {
     "slide_type": "fragment"
    }
   },
   "source": [
    "- Output matching.\n",
    "    - Suppose we ask students to assign `x` to the result of dividing 12 by 6.\n",
    "    - Suppose our source notebook has `x = 6`, while their code has `x = 6.0`."
   ]
  },
  {
   "cell_type": "code",
   "execution_count": null,
   "id": "0fa1df28",
   "metadata": {},
   "outputs": [],
   "source": [
    "# This passes only if x is 6, not 6.0!\n",
    "\n",
    "## TEST ##\n",
    "x"
   ]
  },
  {
   "cell_type": "code",
   "execution_count": null,
   "id": "9e0abd1c",
   "metadata": {},
   "outputs": [],
   "source": [
    "# This passes either way!\n",
    "\n",
    "## TEST ##\n",
    "x == 6"
   ]
  },
  {
   "cell_type": "markdown",
   "id": "f4968229",
   "metadata": {
    "slideshow": {
     "slide_type": "slide"
    }
   },
   "source": [
    "### Other shortcomings\n",
    "\n",
    "Otter..."
   ]
  },
  {
   "cell_type": "markdown",
   "id": "d508e9a3",
   "metadata": {
    "slideshow": {
     "slide_type": "fragment"
    }
   },
   "source": [
    "- Encourages guess-and-check behavior."
   ]
  },
  {
   "cell_type": "markdown",
   "id": "87620df6",
   "metadata": {
    "slideshow": {
     "slide_type": "fragment"
    }
   },
   "source": [
    "- Isn't supported in third-party frontends, like Google Colab.\n",
    "    - Newer versions of Otter require `rawnbconvert` cells, which Colab doesn't have."
   ]
  },
  {
   "cell_type": "markdown",
   "id": "cfcab527",
   "metadata": {
    "slideshow": {
     "slide_type": "fragment"
    }
   },
   "source": [
    "- Does not support question randomization in any way.\n",
    "    - Limits its usefulness for exams."
   ]
  },
  {
   "cell_type": "markdown",
   "id": "446df50e",
   "metadata": {
    "slideshow": {
     "slide_type": "slide"
    }
   },
   "source": [
    "### Future plans"
   ]
  },
  {
   "cell_type": "markdown",
   "id": "13c73e5e",
   "metadata": {},
   "source": [
    "- TODO"
   ]
  }
 ],
 "metadata": {
  "celltoolbar": "Slideshow",
  "kernelspec": {
   "display_name": "Python 3 (ipykernel)",
   "language": "python",
   "name": "python3"
  },
  "language_info": {
   "codemirror_mode": {
    "name": "ipython",
    "version": 3
   },
   "file_extension": ".py",
   "mimetype": "text/x-python",
   "name": "python",
   "nbconvert_exporter": "python",
   "pygments_lexer": "ipython3",
   "version": "3.9.7"
  },
  "livereveal": {
   "scroll": true,
   "transition": "none"
  }
 },
 "nbformat": 4,
 "nbformat_minor": 5
}
