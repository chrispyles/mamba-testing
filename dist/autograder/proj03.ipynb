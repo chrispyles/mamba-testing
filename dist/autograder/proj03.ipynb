{
 "cells": [
  {
   "cell_type": "code",
   "execution_count": null,
   "metadata": {},
   "outputs": [],
   "source": [
    "%pip install -q otter-grader"
   ]
  },
  {
   "cell_type": "code",
   "execution_count": null,
   "metadata": {
    "deletable": false,
    "editable": false,
    "tags": []
   },
   "outputs": [],
   "source": [
    "# Initialize Otter\n",
    "import otter\n",
    "grader = otter.Notebook(\"proj03.ipynb\")"
   ]
  },
  {
   "cell_type": "markdown",
   "metadata": {
    "tags": [
     "ignore"
    ]
   },
   "source": [
    "<table style=\"width: 100%;\">\n",
    "    <tr style=\"background-color: transparent;\"><td>\n",
    "        <img src=\"https://data-88e.github.io/assets/images/blue_text.png\" width=\"250px\" style=\"margin-left: 0;\" />\n",
    "    </td><td>\n",
    "        <p style=\"text-align: right; font-size: 10pt;\"><strong>Economic Models</strong>, Spring 2020<br>\n",
    "            Dr. Eric Van Dusen<br>\n",
    "            Notebook by Chris Pyles</p></td></tr>\n",
    "</table>"
   ]
  },
  {
   "cell_type": "markdown",
   "metadata": {},
   "source": [
    "# Project 3: Econometrics and Data Science"
   ]
  },
  {
   "cell_type": "markdown",
   "metadata": {
    "tags": [
     "ignore"
    ]
   },
   "source": [
    "This project focuses on the application of the data science techniques from lecture. You will practice single variable ordinary least squares regression in the Data 8 style, go through a guided introduction to multivariate OLS using the package `statsmodels`, and finally create your own multivariate OLS model.\n",
    "\n",
    "After this project, you should be able to\n",
    "\n",
    "1. Write and apply the necesssary functions to perform single variable OLS\n",
    "2. Use the `statsmodels` package to create multivariate OLS models\n",
    "3. Understand how to quantitatively evaluate models using the root-mean-squared error\n",
    "4. Look for and use relationships between variables to select features for regression"
   ]
  },
  {
   "cell_type": "code",
   "execution_count": 1,
   "metadata": {},
   "outputs": [],
   "source": [
    "import pandas as pd\n",
    "import matplotlib.pyplot as plt\n",
    "import numpy as np\n",
    "import statsmodels.api as sm\n",
    "import warnings\n",
    "\n",
    "from ipywidgets import interact, Dropdown, IntSlider\n",
    "\n",
    "warnings.simplefilter(action='ignore')\n",
    "%matplotlib inline\n",
    "plt.style.use('seaborn-muted')\n",
    "plt.rcParams[\"figure.figsize\"] = [10,7]"
   ]
  },
  {
   "cell_type": "markdown",
   "metadata": {
    "tags": [
     "ignore"
    ]
   },
   "source": [
    "In this project, we will be working with data on credit card defaults and billing. The data covers April to September 2005, with one row for each cardholder. It has the following columns:\n",
    "\n",
    "| Column | Description |\n",
    "|-----|-----|\n",
    "| `credit` | Total amount of credit |\n",
    "| `sex` | Cardholder sex |\n",
    "| `education` | Cardholder education level |\n",
    "| `martial_status` | Cardholder marital status |\n",
    "| `age` | Cardholder age |\n",
    "| `bill_{month}05` | Bill amount for specific month |\n",
    "| `paid_{month}05` | Amount paid in specified month |\n",
    "| `default` | Whether the cardholder defaulted |\n",
    "\n",
    "In the cell below, we load the dataset."
   ]
  },
  {
   "cell_type": "code",
   "execution_count": 2,
   "metadata": {},
   "outputs": [
    {
     "data": {
      "text/html": [
       "<div>\n",
       "<style scoped>\n",
       "    .dataframe tbody tr th:only-of-type {\n",
       "        vertical-align: middle;\n",
       "    }\n",
       "\n",
       "    .dataframe tbody tr th {\n",
       "        vertical-align: top;\n",
       "    }\n",
       "\n",
       "    .dataframe thead th {\n",
       "        text-align: right;\n",
       "    }\n",
       "</style>\n",
       "<table border=\"1\" class=\"dataframe\">\n",
       "  <thead>\n",
       "    <tr style=\"text-align: right;\">\n",
       "      <th></th>\n",
       "      <th>credit</th>\n",
       "      <th>sex</th>\n",
       "      <th>education</th>\n",
       "      <th>marital_status</th>\n",
       "      <th>age</th>\n",
       "      <th>bill_sep05</th>\n",
       "      <th>bill_aug05</th>\n",
       "      <th>bill_jul05</th>\n",
       "      <th>bill_jun05</th>\n",
       "      <th>bill_may05</th>\n",
       "      <th>bill_apr05</th>\n",
       "      <th>paid_sep05</th>\n",
       "      <th>paid_aug05</th>\n",
       "      <th>paid_jul05</th>\n",
       "      <th>paid_jun05</th>\n",
       "      <th>paid_may05</th>\n",
       "      <th>paid_apr05</th>\n",
       "      <th>default</th>\n",
       "    </tr>\n",
       "  </thead>\n",
       "  <tbody>\n",
       "    <tr>\n",
       "      <th>0</th>\n",
       "      <td>30000</td>\n",
       "      <td>female</td>\n",
       "      <td>undergraduate</td>\n",
       "      <td>single</td>\n",
       "      <td>23</td>\n",
       "      <td>20059</td>\n",
       "      <td>21061</td>\n",
       "      <td>22092</td>\n",
       "      <td>23104</td>\n",
       "      <td>23420</td>\n",
       "      <td>24045</td>\n",
       "      <td>1641</td>\n",
       "      <td>1672</td>\n",
       "      <td>1684</td>\n",
       "      <td>1000</td>\n",
       "      <td>1000</td>\n",
       "      <td>1000</td>\n",
       "      <td>1</td>\n",
       "    </tr>\n",
       "    <tr>\n",
       "      <th>1</th>\n",
       "      <td>190000</td>\n",
       "      <td>female</td>\n",
       "      <td>gradaute</td>\n",
       "      <td>single</td>\n",
       "      <td>26</td>\n",
       "      <td>174519</td>\n",
       "      <td>179122</td>\n",
       "      <td>182680</td>\n",
       "      <td>154753</td>\n",
       "      <td>90540</td>\n",
       "      <td>92248</td>\n",
       "      <td>9000</td>\n",
       "      <td>8382</td>\n",
       "      <td>10221</td>\n",
       "      <td>10000</td>\n",
       "      <td>3000</td>\n",
       "      <td>10490</td>\n",
       "      <td>1</td>\n",
       "    </tr>\n",
       "    <tr>\n",
       "      <th>2</th>\n",
       "      <td>230000</td>\n",
       "      <td>female</td>\n",
       "      <td>gradaute</td>\n",
       "      <td>single</td>\n",
       "      <td>33</td>\n",
       "      <td>4213</td>\n",
       "      <td>1922</td>\n",
       "      <td>5346</td>\n",
       "      <td>6971</td>\n",
       "      <td>10707</td>\n",
       "      <td>15392</td>\n",
       "      <td>0</td>\n",
       "      <td>5500</td>\n",
       "      <td>4000</td>\n",
       "      <td>11000</td>\n",
       "      <td>5000</td>\n",
       "      <td>5000</td>\n",
       "      <td>1</td>\n",
       "    </tr>\n",
       "    <tr>\n",
       "      <th>3</th>\n",
       "      <td>110000</td>\n",
       "      <td>male</td>\n",
       "      <td>diploma</td>\n",
       "      <td>married</td>\n",
       "      <td>38</td>\n",
       "      <td>14084</td>\n",
       "      <td>11129</td>\n",
       "      <td>9316</td>\n",
       "      <td>7681</td>\n",
       "      <td>8897</td>\n",
       "      <td>11729</td>\n",
       "      <td>2500</td>\n",
       "      <td>2500</td>\n",
       "      <td>1000</td>\n",
       "      <td>1500</td>\n",
       "      <td>3000</td>\n",
       "      <td>500</td>\n",
       "      <td>0</td>\n",
       "    </tr>\n",
       "    <tr>\n",
       "      <th>4</th>\n",
       "      <td>440000</td>\n",
       "      <td>male</td>\n",
       "      <td>gradaute</td>\n",
       "      <td>single</td>\n",
       "      <td>29</td>\n",
       "      <td>26430</td>\n",
       "      <td>23509</td>\n",
       "      <td>278956</td>\n",
       "      <td>274859</td>\n",
       "      <td>99618</td>\n",
       "      <td>103884</td>\n",
       "      <td>1249</td>\n",
       "      <td>279048</td>\n",
       "      <td>10758</td>\n",
       "      <td>5000</td>\n",
       "      <td>5080</td>\n",
       "      <td>2515</td>\n",
       "      <td>0</td>\n",
       "    </tr>\n",
       "    <tr>\n",
       "      <th>...</th>\n",
       "      <td>...</td>\n",
       "      <td>...</td>\n",
       "      <td>...</td>\n",
       "      <td>...</td>\n",
       "      <td>...</td>\n",
       "      <td>...</td>\n",
       "      <td>...</td>\n",
       "      <td>...</td>\n",
       "      <td>...</td>\n",
       "      <td>...</td>\n",
       "      <td>...</td>\n",
       "      <td>...</td>\n",
       "      <td>...</td>\n",
       "      <td>...</td>\n",
       "      <td>...</td>\n",
       "      <td>...</td>\n",
       "      <td>...</td>\n",
       "      <td>...</td>\n",
       "    </tr>\n",
       "    <tr>\n",
       "      <th>995</th>\n",
       "      <td>30000</td>\n",
       "      <td>female</td>\n",
       "      <td>diploma</td>\n",
       "      <td>married</td>\n",
       "      <td>50</td>\n",
       "      <td>29468</td>\n",
       "      <td>29688</td>\n",
       "      <td>28919</td>\n",
       "      <td>28000</td>\n",
       "      <td>13393</td>\n",
       "      <td>10539</td>\n",
       "      <td>1000</td>\n",
       "      <td>159</td>\n",
       "      <td>28426</td>\n",
       "      <td>24682</td>\n",
       "      <td>12</td>\n",
       "      <td>0</td>\n",
       "      <td>1</td>\n",
       "    </tr>\n",
       "    <tr>\n",
       "      <th>996</th>\n",
       "      <td>80000</td>\n",
       "      <td>female</td>\n",
       "      <td>diploma</td>\n",
       "      <td>married</td>\n",
       "      <td>45</td>\n",
       "      <td>35401</td>\n",
       "      <td>36399</td>\n",
       "      <td>37689</td>\n",
       "      <td>38580</td>\n",
       "      <td>39104</td>\n",
       "      <td>39484</td>\n",
       "      <td>1587</td>\n",
       "      <td>1877</td>\n",
       "      <td>1768</td>\n",
       "      <td>1292</td>\n",
       "      <td>900</td>\n",
       "      <td>1365</td>\n",
       "      <td>0</td>\n",
       "    </tr>\n",
       "    <tr>\n",
       "      <th>997</th>\n",
       "      <td>20000</td>\n",
       "      <td>male</td>\n",
       "      <td>diploma</td>\n",
       "      <td>married</td>\n",
       "      <td>23</td>\n",
       "      <td>3675</td>\n",
       "      <td>19316</td>\n",
       "      <td>19844</td>\n",
       "      <td>19844</td>\n",
       "      <td>20388</td>\n",
       "      <td>19554</td>\n",
       "      <td>19316</td>\n",
       "      <td>1261</td>\n",
       "      <td>651</td>\n",
       "      <td>803</td>\n",
       "      <td>747</td>\n",
       "      <td>155</td>\n",
       "      <td>1</td>\n",
       "    </tr>\n",
       "    <tr>\n",
       "      <th>998</th>\n",
       "      <td>20000</td>\n",
       "      <td>male</td>\n",
       "      <td>gradaute</td>\n",
       "      <td>single</td>\n",
       "      <td>31</td>\n",
       "      <td>1261</td>\n",
       "      <td>390</td>\n",
       "      <td>390</td>\n",
       "      <td>390</td>\n",
       "      <td>0</td>\n",
       "      <td>780</td>\n",
       "      <td>390</td>\n",
       "      <td>390</td>\n",
       "      <td>390</td>\n",
       "      <td>0</td>\n",
       "      <td>780</td>\n",
       "      <td>0</td>\n",
       "      <td>0</td>\n",
       "    </tr>\n",
       "    <tr>\n",
       "      <th>999</th>\n",
       "      <td>400000</td>\n",
       "      <td>female</td>\n",
       "      <td>undergraduate</td>\n",
       "      <td>single</td>\n",
       "      <td>29</td>\n",
       "      <td>52875</td>\n",
       "      <td>55544</td>\n",
       "      <td>994</td>\n",
       "      <td>5030</td>\n",
       "      <td>4568</td>\n",
       "      <td>500</td>\n",
       "      <td>55544</td>\n",
       "      <td>994</td>\n",
       "      <td>5030</td>\n",
       "      <td>0</td>\n",
       "      <td>500</td>\n",
       "      <td>150</td>\n",
       "      <td>0</td>\n",
       "    </tr>\n",
       "  </tbody>\n",
       "</table>\n",
       "<p>1000 rows × 18 columns</p>\n",
       "</div>"
      ],
      "text/plain": [
       "     credit     sex      education marital_status  age  bill_sep05  \\\n",
       "0     30000  female  undergraduate         single   23       20059   \n",
       "1    190000  female       gradaute         single   26      174519   \n",
       "2    230000  female       gradaute         single   33        4213   \n",
       "3    110000    male        diploma        married   38       14084   \n",
       "4    440000    male       gradaute         single   29       26430   \n",
       "..      ...     ...            ...            ...  ...         ...   \n",
       "995   30000  female        diploma        married   50       29468   \n",
       "996   80000  female        diploma        married   45       35401   \n",
       "997   20000    male        diploma        married   23        3675   \n",
       "998   20000    male       gradaute         single   31        1261   \n",
       "999  400000  female  undergraduate         single   29       52875   \n",
       "\n",
       "     bill_aug05  bill_jul05  bill_jun05  bill_may05  bill_apr05  paid_sep05  \\\n",
       "0         21061       22092       23104       23420       24045        1641   \n",
       "1        179122      182680      154753       90540       92248        9000   \n",
       "2          1922        5346        6971       10707       15392           0   \n",
       "3         11129        9316        7681        8897       11729        2500   \n",
       "4         23509      278956      274859       99618      103884        1249   \n",
       "..          ...         ...         ...         ...         ...         ...   \n",
       "995       29688       28919       28000       13393       10539        1000   \n",
       "996       36399       37689       38580       39104       39484        1587   \n",
       "997       19316       19844       19844       20388       19554       19316   \n",
       "998         390         390         390           0         780         390   \n",
       "999       55544         994        5030        4568         500       55544   \n",
       "\n",
       "     paid_aug05  paid_jul05  paid_jun05  paid_may05  paid_apr05  default  \n",
       "0          1672        1684        1000        1000        1000        1  \n",
       "1          8382       10221       10000        3000       10490        1  \n",
       "2          5500        4000       11000        5000        5000        1  \n",
       "3          2500        1000        1500        3000         500        0  \n",
       "4        279048       10758        5000        5080        2515        0  \n",
       "..          ...         ...         ...         ...         ...      ...  \n",
       "995         159       28426       24682          12           0        1  \n",
       "996        1877        1768        1292         900        1365        0  \n",
       "997        1261         651         803         747         155        1  \n",
       "998         390         390           0         780           0        0  \n",
       "999         994        5030           0         500         150        0  \n",
       "\n",
       "[1000 rows x 18 columns]"
      ]
     },
     "execution_count": 2,
     "metadata": {},
     "output_type": "execute_result"
    }
   ],
   "source": [
    "defaults = pd.read_csv(\"defaults-small.csv\")\n",
    "defaults"
   ]
  },
  {
   "cell_type": "markdown",
   "metadata": {
    "tags": [
     "ignore"
    ]
   },
   "source": [
    "**Question 0.1:** Which of the columns in `defaults` would we need dummies for in order to use in an OLS model? Assign `q0_1` to an list of these column _labels_."
   ]
  },
  {
   "cell_type": "code",
   "execution_count": 3,
   "metadata": {
    "tags": [
     "ignore",
     "otter_assign_solution_cell"
    ]
   },
   "outputs": [
    {
     "data": {
      "text/plain": [
       "['sex', 'education', 'marital_status']"
      ]
     },
     "execution_count": 3,
     "metadata": {},
     "output_type": "execute_result"
    }
   ],
   "source": [
    "q0_1 = [\"sex\", \"education\", \"marital_status\"] # SOLUTION\n",
    "q0_1"
   ]
  },
  {
   "cell_type": "code",
   "execution_count": null,
   "metadata": {
    "deletable": false,
    "editable": false
   },
   "outputs": [],
   "source": [
    "grader.check(\"q0_1\")"
   ]
  },
  {
   "cell_type": "markdown",
   "metadata": {
    "tags": [
     "ignore"
    ]
   },
   "source": [
    "In order to use the columns you chose, we will need to create dummies for them. In lecture, we showed a function (defined in the imports cell) that will get dummies for a variable for you."
   ]
  },
  {
   "cell_type": "markdown",
   "metadata": {},
   "source": [
    "**Question 0.2:** Use `pd.get_dummies` to get dummies for the variables you listed in `q0_1`."
   ]
  },
  {
   "cell_type": "code",
   "execution_count": 5,
   "metadata": {
    "tags": [
     "otter_assign_solution_cell"
    ]
   },
   "outputs": [],
   "source": [
    "defaults = pd.get_dummies(defaults, columns=q0_1) # SOLUTION"
   ]
  },
  {
   "cell_type": "code",
   "execution_count": null,
   "metadata": {
    "deletable": false,
    "editable": false
   },
   "outputs": [],
   "source": [
    "grader.check(\"q0_2\")"
   ]
  },
  {
   "cell_type": "markdown",
   "metadata": {
    "tags": [
     "ignore"
    ]
   },
   "source": [
    "## Part 1: Single Variable OLS\n",
    "\n",
    "We'll start by doing some single variable linear regression, ala Data 8. To begin, recall that we can model $y$ based on $x$ using the form\n",
    "\n",
    "$$\\Large\n",
    "\\hat{y} = \\hat{\\beta}_0 + \\hat{\\beta}_1 x\n",
    "$$\n",
    "\n",
    "We can define the **correlation coefficient** of two values to be the mean of the product of their values in standard units."
   ]
  },
  {
   "cell_type": "markdown",
   "metadata": {},
   "source": [
    "**Question 1.1:** Complete the `corr` function below to compute the correlation coefficient of two arrays `x` and `y` based on the formula\n",
    "\n",
    "$$\\Large\n",
    "r = \\text{mean} \\left ( x_\\text{SU} \\cdot y_\\text{SU} \\right )\n",
    "$$\n",
    "\n",
    "_Hint:_ You may find the `su` function, which converts an array to standard units, helpful."
   ]
  },
  {
   "cell_type": "code",
   "execution_count": 7,
   "metadata": {
    "tags": [
     "otter_assign_solution_cell"
    ]
   },
   "outputs": [],
   "source": [
    "def su(arr):\n",
    "    \"\"\"Converts array arr to standard units\"\"\"\n",
    "    return (arr - np.mean(arr)) / np.std(arr)\n",
    "\n",
    "def corr(x, y):\n",
    "    \"\"\"Calculates the correlation coefficient of two arrays\"\"\"\n",
    "    return np.mean(su(x) * su(y)) # SOLUTION"
   ]
  },
  {
   "cell_type": "code",
   "execution_count": null,
   "metadata": {
    "deletable": false,
    "editable": false
   },
   "outputs": [],
   "source": [
    "grader.check(\"q1_1\")"
   ]
  },
  {
   "cell_type": "markdown",
   "metadata": {
    "tags": [
     "ignore"
    ]
   },
   "source": [
    "From this $r$ value that we have calculated above, we can compute the slope $\\beta_1$ and intercept $\\beta_0$ of the best-fit line using the formulas below.\n",
    "\n",
    "$$\\Large\n",
    "\\beta_1 = r \\frac{\\hat{\\sigma}_y}{\\hat{\\sigma}_x}\n",
    "\\qquad \\text{ and } \\qquad\n",
    "\\beta_0 = \\hat{\\mu}_y - \\beta_1 \\cdot \\hat{\\mu}_x\n",
    "$$"
   ]
  },
  {
   "cell_type": "markdown",
   "metadata": {},
   "source": [
    "**Question 1.2:** Using your `corr` function, fill in the `slope` and `intercept` functions below which compute the values of $\\beta_1$ and $\\beta_0$ for the line of best fit that predicts `y` based on `x`. Your function should use vectorized arithmetic (i.e. no `for` loops).\n",
    "\n",
    "_Hint:_ You may find your `slope` function useful in `intercept`."
   ]
  },
  {
   "cell_type": "code",
   "execution_count": 10,
   "metadata": {
    "tags": [
     "otter_assign_solution_cell"
    ]
   },
   "outputs": [],
   "source": [
    "def slope(x, y):\n",
    "    \"\"\"Computes the slope of the best-fit line of y based on x\"\"\"\n",
    "    return np.std(y) * corr(x, y) / np.std(x) # SOLUTION\n",
    "\n",
    "def intercept(x, y):\n",
    "    \"\"\"Computes the intercept of the best-fit line of y based on x\"\"\"\n",
    "    return np.mean(y) - slope(x, y) * np.mean(x) # SOLUTION"
   ]
  },
  {
   "cell_type": "code",
   "execution_count": null,
   "metadata": {
    "deletable": false,
    "editable": false
   },
   "outputs": [],
   "source": [
    "grader.check(\"q1_2\")"
   ]
  },
  {
   "cell_type": "markdown",
   "metadata": {
    "tags": [
     "ignore"
    ]
   },
   "source": [
    "Now let's look at how we can predict the `bill_sep05` column based on some other column of our data. We'll start by looking at the `credit` as the explanatory variable. To use our functions above, we must extract the values of each column as arrays, which we define below as `x` and `y`. We then compute the fitted values `y_hat` using the slope-intercept formula and plot the results."
   ]
  },
  {
   "cell_type": "markdown",
   "metadata": {},
   "source": [
    "**Question 1.3:** Using the functions you defined in Question 1.2, regress `bill_sep05` on `credit`. Assign your predictions to `y_hat`."
   ]
  },
  {
   "cell_type": "code",
   "execution_count": 15,
   "metadata": {
    "tags": [
     "ignore",
     "otter_assign_solution_cell"
    ]
   },
   "outputs": [],
   "source": [
    "x = defaults[\"credit\"]\n",
    "y = defaults[\"bill_sep05\"]\n",
    "\n",
    "beta_1 = slope(x, y)           # SOLUTION\n",
    "beta_0 = intercept(x, y)       # SOLUTION\n",
    "y_hat = beta_1 * x + beta_0    # SOLUTION"
   ]
  },
  {
   "cell_type": "code",
   "execution_count": null,
   "metadata": {
    "deletable": false,
    "editable": false
   },
   "outputs": [],
   "source": [
    "grader.check(\"q1_3\")"
   ]
  },
  {
   "cell_type": "markdown",
   "metadata": {},
   "source": [
    "Now that we have some predictions, let's plot the original data and the regression line."
   ]
  },
  {
   "cell_type": "code",
   "execution_count": 20,
   "metadata": {},
   "outputs": [
    {
     "data": {
      "image/png": "[encoded data removed]",
      "text/plain": [
       "<Figure size 720x504 with 1 Axes>"
      ]
     },
     "metadata": {
      "needs_background": "light"
     },
     "output_type": "display_data"
    }
   ],
   "source": [
    "plt.scatter(x, y, color=\"tab:blue\", alpha=0.3)\n",
    "plt.plot(x, y_hat, color=\"tab:red\")\n",
    "plt.title(\"Predict September bill with credit\");"
   ]
  },
  {
   "cell_type": "markdown",
   "metadata": {},
   "source": [
    "<!-- BEGIN QUESTION -->\n",
    "\n",
    "**Question 1.4:** Does the line we found fit the data well? Explain."
   ]
  },
  {
   "cell_type": "markdown",
   "metadata": {},
   "source": [
    "_Type your answer here, replacing this text._"
   ]
  },
  {
   "cell_type": "markdown",
   "metadata": {
    "tags": [
     "otter_assign_solution_cell"
    ]
   },
   "source": [
    "<div class=\"alert alert-danger\">\n",
    "\n",
    "<strong>SOLUTION:</strong> Nope\n",
    "    \n",
    "</div>"
   ]
  },
  {
   "cell_type": "markdown",
   "metadata": {
    "tags": [
     "ignore"
    ]
   },
   "source": [
    "<!-- END QUESTION -->\n",
    "\n",
    "Obviously, we can see that our best-fit line does not predict perfectly. There are plenty of points in the scatterplot that do not fall on the line. But how do we quantify the error of our model? There are many so-called *loss functions*, but in this notebook we will use the **root-mean-squared error**, which is defined as\n",
    "\n",
    "$$\\Large\n",
    "\\text{RMSE} = \\sqrt{ \\frac{1}{n} \\sum_{i=1}^n \\left ( y_i - \\hat{y}_i \\right ) ^2 }\n",
    "$$\n",
    "\n",
    "where $n$ is the number of observations. The effect of this is to take the mean of the distance of each value of $\\hat{y}$ from its corresponding value in $y$; squaring these values keeps them positive, and then we take the square root to correct the units of the error."
   ]
  },
  {
   "cell_type": "markdown",
   "metadata": {},
   "source": [
    "**Question 1.5:** Complete the function `rmse` below which computes the root-mean-squared error of the prediction `y_hat` on `y`. Again, no `for` loops."
   ]
  },
  {
   "cell_type": "code",
   "execution_count": 21,
   "metadata": {
    "tags": [
     "otter_assign_solution_cell"
    ]
   },
   "outputs": [],
   "source": [
    "def rmse(y, y_hat):\n",
    "    \"\"\"Computes the RMSE of prediction y_hat based on y\"\"\"\n",
    "    return np.sqrt(np.mean((y - y_hat)**2)) # SOLUTION"
   ]
  },
  {
   "cell_type": "code",
   "execution_count": null,
   "metadata": {
    "deletable": false,
    "editable": false
   },
   "outputs": [],
   "source": [
    "grader.check(\"q1_5\")"
   ]
  },
  {
   "cell_type": "markdown",
   "metadata": {
    "tags": [
     "ignore"
    ]
   },
   "source": [
    "**Question 1.6:** Use your `rmse` function to compute the RMSE of our prediction `y_hat` based on `y` from above."
   ]
  },
  {
   "cell_type": "code",
   "execution_count": 24,
   "metadata": {
    "tags": [
     "otter_assign_solution_cell"
    ]
   },
   "outputs": [
    {
     "data": {
      "text/plain": [
       "64224.11209853689"
      ]
     },
     "execution_count": 24,
     "metadata": {},
     "output_type": "execute_result"
    }
   ],
   "source": [
    "single_var_error = rmse(y, y_hat) # SOLUTION\n",
    "single_var_error"
   ]
  },
  {
   "cell_type": "code",
   "execution_count": null,
   "metadata": {
    "deletable": false,
    "editable": false
   },
   "outputs": [],
   "source": [
    "grader.check(\"q1_6\")"
   ]
  },
  {
   "cell_type": "markdown",
   "metadata": {
    "tags": [
     "ignore"
    ]
   },
   "source": [
    "In looking through different features, you should have noticed that most of them don't follow a linear relationship very well. In practice, you often need _multiple_ features (explanatory variables) to predict an outcome variable, and it is for this reason that we often use **multiple linear regression** to predict variables."
   ]
  },
  {
   "cell_type": "markdown",
   "metadata": {},
   "source": [
    "Finally, before moving on to the multivariable case, let's think about using whether or not an individual defaults as a predictor of their September 2005 bill."
   ]
  },
  {
   "cell_type": "markdown",
   "metadata": {},
   "source": [
    "**Question 1.7:** Assign `default_beta_1` and `default_beta_0` to the slope and intercept of your regression of `bill_sep05` on the `default` column of the table `defaults`.\n",
    "\n",
    "_Hint:_ Our outcome variable hasn't changed, so we can reuse the array `y` defined earlier."
   ]
  },
  {
   "cell_type": "code",
   "execution_count": 27,
   "metadata": {
    "tags": [
     "otter_assign_solution_cell"
    ]
   },
   "outputs": [
    {
     "name": "stdout",
     "output_type": "stream",
     "text": [
      "y_hat = -4946.686699553023 * x + 47878.434447300766\n"
     ]
    }
   ],
   "source": [
    "default_x = defaults[\"default\"]               # SOLUTION\n",
    "\n",
    "default_beta_1 = slope(default_x, y)          # SOLUTION\n",
    "default_beta_0 = intercept(default_x, y)      # SOLUTION\n",
    "\n",
    "print(\"y_hat = {} * x + {}\".format(default_beta_1, default_beta_0))"
   ]
  },
  {
   "cell_type": "code",
   "execution_count": null,
   "metadata": {
    "deletable": false,
    "editable": false
   },
   "outputs": [],
   "source": [
    "grader.check(\"q1_7\")"
   ]
  },
  {
   "cell_type": "markdown",
   "metadata": {},
   "source": [
    "<!-- BEGIN QUESTION -->\n",
    "\n",
    "**Question 1.8:** Interpret the value of `default_beta_1`. Basically, what do we expected to happen when `default` changes from 0 to 1? Explain."
   ]
  },
  {
   "cell_type": "markdown",
   "metadata": {},
   "source": [
    "_Type your answer here, replacing this text._"
   ]
  },
  {
   "cell_type": "markdown",
   "metadata": {
    "tags": [
     "otter_assign_solution_cell"
    ]
   },
   "source": [
    "<div class=\"alert alert-danger\">\n",
    "\n",
    "<strong>SOLUTION:</strong> We expect the bill to go down by approx \\\\$3,485.\n",
    "    \n",
    "</div>"
   ]
  },
  {
   "cell_type": "markdown",
   "metadata": {
    "tags": [
     "ignore"
    ]
   },
   "source": [
    "<!-- END QUESTION -->\n",
    "\n",
    "---\n",
    "\n",
    "### References\n",
    "\n",
    "* Data from the [UCI Machine Learning Repository](https://archive.ics.uci.edu/ml/datasets/default+of+credit+card+clients#)"
   ]
  },
  {
   "cell_type": "markdown",
   "metadata": {
    "deletable": false,
    "editable": false
   },
   "source": [
    "## Submission\n",
    "\n",
    "Make sure you have run all cells in your notebook in order before running the cell below, so that all images/graphs appear in the output. The cell below will generate a zip file for you to submit. **Please save before exporting!**"
   ]
  },
  {
   "cell_type": "code",
   "execution_count": null,
   "metadata": {
    "deletable": false,
    "editable": false
   },
   "outputs": [],
   "source": [
    "# Save your notebook first, then run this cell to export your submission.\n",
    "grader.export(run_tests=True)"
   ]
  },
  {
   "cell_type": "markdown",
   "metadata": {},
   "source": [
    " "
   ]
  }
 ],
 "metadata": {
  "@webio": {
   "lastCommId": null,
   "lastKernelId": null
  },
  "kernelspec": {
   "display_name": "Python 3 (ipykernel)",
   "language": "python",
   "name": "python3"
  },
  "language_info": {
   "codemirror_mode": {
    "name": "ipython",
    "version": 3
   },
   "file_extension": ".py",
   "mimetype": "text/x-python",
   "name": "python",
   "nbconvert_exporter": "python",
   "pygments_lexer": "ipython3",
   "version": "3.7.7"
  },
  "otter": {
   "OK_FORMAT": false,
   "tests": {
    "q0_1": "from otter.test_files import test_case\n\nOK_FORMAT = False\n\nname = \"q0_1\"\npoints = None\n\n@test_case(points=None, hidden=False)\ndef test_q0_1(q0_1):\n    assert len(q0_1) in [3, 4]\n    assert \"sex\" in q0_1\n    assert \"education\" in q0_1\n    assert \"marital_status\" in q0_1\n\n",
    "q0_2": "from otter.test_files import test_case\n\nOK_FORMAT = False\n\nname = \"q0_2\"\npoints = None\n\n@test_case(points=None, hidden=False)\ndef test_q0_2(defaults):\n    assert \"education\" not in defaults.columns\n    assert \"marital_status\" not in defaults.columns\n    assert \"sex_male\" in defaults.columns\n\n",
    "q1_1": "from otter.test_files import test_case\n\nOK_FORMAT = False\n\nname = \"q1_1\"\npoints = None\n\n@test_case(points=None, hidden=False)\ndef test_q1_1_1(np, corr):\n    np.random.seed(1234)\n    x2 = np.random.uniform(0, 10, 5)\n    y2 = np.random.uniform(0, 10, 5)\n    assert np.isclose(corr(x2, y2), 0.6410799722591175)\n\n@test_case(points=1, hidden=True)\ndef test_q1_1_2(np, corr):\n    np.random.seed(2345)\n    x2 = np.random.uniform(0, 10, 5)\n    y2 = np.random.uniform(0, 10, 5)\n    assert np.isclose(corr(x2, y2), -0.4008555019904271)\n\n",
    "q1_2": "from otter.test_files import test_case\n\nOK_FORMAT = False\n\nname = \"q1_2\"\npoints = None\n\n@test_case(points=None, hidden=False)\ndef test_q1_2_1(np, slope):\n    np.random.seed(1234)\n    x2 = np.random.uniform(0, 10, 5)\n    y2 = np.random.uniform(0, 10, 5)\n    assert np.isclose(slope(x2, y2), 0.853965497371089)\n\n@test_case(points=None, hidden=False)\ndef test_q1_2_2(np, intercept):\n    np.random.seed(1234)\n    x2 = np.random.uniform(0, 10, 5)\n    y2 = np.random.uniform(0, 10, 5)\n    assert np.isclose(intercept(x2, y2), 1.5592892975597108)\n\n@test_case(points=0.5, hidden=True)\ndef test_q1_2_3(np, slope):\n    np.random.seed(2345)\n    x2 = np.random.uniform(0, 10, 5)\n    y2 = np.random.uniform(0, 10, 5)\n    assert np.isclose(slope(x2, y2), -0.5183482739336265)\n\n@test_case(points=0.5, hidden=True)\ndef test_q1_2_4(np, intercept):\n    np.random.seed(2345)\n    x2 = np.random.uniform(0, 10, 5)\n    y2 = np.random.uniform(0, 10, 5)\n    assert np.isclose(intercept(x2, y2), 7.777051922080558)\n\n",
    "q1_3": "from otter.test_files import test_case\n\nOK_FORMAT = False\n\nname = \"q1_3\"\npoints = None\n\n@test_case(points=None, hidden=False)\ndef test_q1_3_1(x, y, y_hat, beta_0, beta_1):\n    assert len(y_hat) == len(y)\n    assert x.shape == (1000,)\n    assert 0.05 <= beta_1 <= 0.2\n    assert 30000 <= beta_0 <= 35000\n\n@test_case(points=1, hidden=True)\ndef test_q1_3_2(np, beta_1):\n    assert np.isclose(beta_1, 0.08087222622700581)\n\n@test_case(points=1, hidden=True)\ndef test_q1_3_3(np, beta_0):\n    assert np.isclose(beta_0, 33267.3297197296)\n\n@test_case(points=1, hidden=True)\ndef test_q1_3_4(np, y_hat):\n    np.random.seed(1001)\n    sub_y = np.random.choice(y_hat, 5)\n    assert np.allclose(sub_y, [90686.6103409, 35693.49650654, 34884.77424427, 37310.94103108, 41354.55234243])\n\n",
    "q1_5": "from otter.test_files import test_case\n\nOK_FORMAT = False\n\nname = \"q1_5\"\npoints = None\n\n@test_case(points=None, hidden=False)\ndef test_q1_5_1(np, rmse):\n    np.random.seed(1234)\n    y2 = np.random.uniform(0, 10, 5)\n    y_hat2 = np.random.uniform(0, 10, 5)\n    assert np.isclose(rmse(y2, y_hat2), 2.440102731334708)\n\n@test_case(points=1, hidden=True)\ndef test_q1_5_2(np, rmse):\n    np.random.seed(2345)\n    y2 = np.random.uniform(0, 10, 5)\n    y_hat2 = np.random.uniform(0, 10, 5)\n    assert np.isclose(rmse(y2, y_hat2), 4.034226624125118)\n\n",
    "q1_6": "from otter.test_files import test_case\n\nOK_FORMAT = False\n\nname = \"q1_6\"\npoints = None\n\n@test_case(points=None, hidden=False)\ndef test_q1_6_1(single_var_error):\n    assert 60000 <= single_var_error <= 70000\n\n@test_case(points=1, hidden=True)\ndef test_q1_6_2(np, single_var_error):\n    assert np.isclose(single_var_error, 64224.11209853689)\n\n",
    "q1_7": "from otter.test_files import test_case\n\nOK_FORMAT = False\n\nname = \"q1_7\"\npoints = None\n\n@test_case(points=None, hidden=False)\ndef test_q1_7_1(default_beta_1):\n    assert -5000 <= default_beta_1 <= -4000\n\n@test_case(points=None, hidden=False)\ndef test_q1_7_2(default_beta_0):\n    assert 46000 <= default_beta_0 <= 48000\n\n@test_case(points=1, hidden=True)\ndef test_q1_7_3(np, default_beta_1):\n    assert np.isclose(default_beta_1, -4946.686699553023)\n\n@test_case(points=1, hidden=True)\ndef test_q1_7_4(np, default_beta_0):\n    assert np.isclose(default_beta_0, 47878.434447300766)\n\n"
   }
  },
  "varInspector": {
   "cols": {
    "lenName": 16,
    "lenType": 16,
    "lenVar": 40
   },
   "kernels_config": {
    "python": {
     "delete_cmd_postfix": "",
     "delete_cmd_prefix": "del ",
     "library": "var_list.py",
     "varRefreshCmd": "print(var_dic_list())"
    },
    "r": {
     "delete_cmd_postfix": ") ",
     "delete_cmd_prefix": "rm(",
     "library": "var_list.r",
     "varRefreshCmd": "cat(var_dic_list()) "
    }
   },
   "types_to_exclude": [
    "module",
    "function",
    "builtin_function_or_method",
    "instance",
    "_Feature"
   ],
   "window_display": false
  }
 },
 "nbformat": 4,
 "nbformat_minor": 4
}
